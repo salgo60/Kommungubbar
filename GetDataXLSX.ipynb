{
 "cells": [
  {
   "cell_type": "markdown",
   "metadata": {},
   "source": [
    "* this [notebook](https://github.com/salgo60/Kommungubbar/blob/master/GetDataXLSX.ipynb)\n",
    "* [Wikidata project](https://www.wikidata.org/wiki/Wikidata:WikiProject_Sweden/Municipal_commissioner_in_Sweden) \"Municipal commissioner in Sweden\"\n",
    "* [How to Integrate Google Sheets and Jupyter Notebooks](https://towardsdatascience.com/how-to-integrate-google-sheets-and-jupyter-notebooks-c469309aacea)\n",
    "* [xlsx filer](https://drive.google.com/drive/folders/1Blag2NPBAVVSaQ498bFaCorbdtS_f319)"
   ]
  },
  {
   "cell_type": "code",
   "execution_count": 1,
   "metadata": {},
   "outputs": [
    {
     "name": "stdout",
     "output_type": "stream",
     "text": [
      "Last run:  2021-01-19 18:10:46.494477\n"
     ]
    }
   ],
   "source": [
    "from datetime import datetime\n",
    "start_time  = datetime.now()\n",
    "print(\"Last run: \", start_time) "
   ]
  },
  {
   "cell_type": "markdown",
   "metadata": {},
   "source": [
    "* Blev massa strul med Google docs så jag laddar ned alla filer till zip folder lokalr\n",
    "* Kör denna notebook\n",
    "* laddar upp på [Github Kommungubbar](https://github.com/salgo60/Kommungubbar/tree/main)\n",
    "* laddade in hela skapade csv filen i en [fil](https://docs.google.com/spreadsheets/d/1lVzib2Ha3s4Aw0w7Z1ER5wivbRCZJpeAeKkogo9jOAI/edit?usp=sharing) "
   ]
  },
  {
   "cell_type": "code",
   "execution_count": 28,
   "metadata": {},
   "outputs": [
    {
     "name": "stdout",
     "output_type": "stream",
     "text": [
      "error .DS_Store\n",
      "Error old file zip/Norrköping.xls\n"
     ]
    },
    {
     "data": {
      "text/plain": [
       "(2386, 77)"
      ]
     },
     "execution_count": 28,
     "metadata": {},
     "output_type": "execute_result"
    }
   ],
   "source": [
    "import pandas as pd\n",
    "import os\n",
    "path = 'zip'\n",
    "filelist = os.listdir(path) \n",
    "list = []\n",
    "frame = pd.DataFrame()\n",
    "for file in filelist:\n",
    "    filepath = path + '/' + file\n",
    "    #print (file)\n",
    "    try:\n",
    "        if filepath.split('.')[1] == \"xls\":\n",
    "            print (\"Error old file \" + filepath)        \n",
    "        else:\n",
    "            kommunXlsx = pd.read_excel(filepath, engine='openpyxl')\n",
    "            list.append(kommunXlsx)\n",
    "    except:\n",
    "        print(\"error \" + file)\n",
    "frame = pd.concat(list)\n",
    "frame.shape"
   ]
  },
  {
   "cell_type": "code",
   "execution_count": 29,
   "metadata": {},
   "outputs": [],
   "source": [
    "frame.to_csv(\"newfile.csv\")"
   ]
  },
  {
   "cell_type": "code",
   "execution_count": null,
   "metadata": {},
   "outputs": [],
   "source": []
  }
 ],
 "metadata": {
  "kernelspec": {
   "display_name": "Python 3",
   "language": "python",
   "name": "python3"
  },
  "language_info": {
   "codemirror_mode": {
    "name": "ipython",
    "version": 3
   },
   "file_extension": ".py",
   "mimetype": "text/x-python",
   "name": "python",
   "nbconvert_exporter": "python",
   "pygments_lexer": "ipython3",
   "version": "3.8.0"
  }
 },
 "nbformat": 4,
 "nbformat_minor": 4
}
